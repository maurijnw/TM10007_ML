{
  "nbformat": 4,
  "nbformat_minor": 0,
  "metadata": {
    "colab": {
      "provenance": [],
      "include_colab_link": true
    },
    "kernelspec": {
      "name": "python3",
      "display_name": "Python 3"
    },
    "language_info": {
      "name": "python"
    }
  },
  "cells": [
    {
      "cell_type": "markdown",
      "metadata": {
        "id": "view-in-github",
        "colab_type": "text"
      },
      "source": [
        "<a href=\"https://colab.research.google.com/github/maurijnw/TM10007_ML/blob/main/ML_Maurijn.ipynb\" target=\"_parent\"><img src=\"https://colab.research.google.com/assets/colab-badge.svg\" alt=\"Open In Colab\"/></a>"
      ]
    },
    {
      "cell_type": "code",
      "source": [
        "# Import necessary libraries\n",
        "import pandas as pd\n",
        "import numpy as np\n",
        "from sklearn.linear_model import LogisticRegression\n",
        "from sklearn.model_selection import train_test_split\n",
        "from sklearn.feature_selection import SelectKBest, f_classif\n",
        "from sklearn.preprocessing import StandardScaler\n",
        "from sklearn.svm import SVC\n",
        "from sklearn.pipeline import make_pipeline\n",
        "from sklearn.metrics import classification_report, confusion_matrix"
      ],
      "metadata": {
        "id": "NjqPo2zw8OvI"
      },
      "execution_count": 13,
      "outputs": []
    },
    {
      "cell_type": "code",
      "source": [
        "\n",
        "# Run this to use from colab environment\n",
        "!pip install -q --upgrade git+https://github.com/jveenland/tm10007_ml.git\n",
        "\n",
        "# Run this to use from colab environment\n",
        "!git clone https://github.com/jveenland/tm10007_ml.git\n",
        "%cd /content/tm10007_ml/worcgist \n",
        "\n",
        "\n",
        "from pathlib import Path\n",
        "import pandas as pd\n",
        "\n",
        "dir = Path('.') / 'GIST_radiomicFeatures.csv'\n",
        "data = pd.read_csv(dir, index_col=0)\n",
        "\n",
        "print(f'The number of samples: {len(data.index)}')\n",
        "print(f'The number of columns: {len(data.columns)}')\n"
      ],
      "metadata": {
        "colab": {
          "base_uri": "https://localhost:8080/"
        },
        "id": "goMnaQGn2qSk",
        "outputId": "b5e859b8-ea40-4478-c32d-a7630b00dd6f"
      },
      "execution_count": 10,
      "outputs": [
        {
          "output_type": "stream",
          "name": "stdout",
          "text": [
            "  Preparing metadata (setup.py) ... \u001b[?25l\u001b[?25hdone\n",
            "fatal: destination path 'tm10007_ml' already exists and is not an empty directory.\n",
            "/content/tm10007_ml/worcgist\n",
            "The number of samples: 246\n",
            "The number of columns: 494\n"
          ]
        }
      ]
    },
    {
      "cell_type": "code",
      "source": [
        "  # Separate the target variable from the features\n",
        "  X = data.iloc[:, 1:]\n",
        "  y = data.iloc[:, 0]\n",
        "  print(f'The number of samples: {len(X.index)}')\n",
        "  print(f'The number of columns: {len(X.columns)}')\n",
        "  from sklearn.model_selection import KFold\n",
        "  \n",
        "  # Initialize the k-fold and set the number of splits\n",
        "  kf = KFold(n_splits=5)\n",
        "  \n",
        "  # Split the data into training and testing sets\n",
        "  for train_index, test_index in kf.split(X):\n",
        "      X_train, X_test = X.iloc[train_index], X.iloc[test_index] #features for training  and testing \n",
        "      y_train, y_test = y[train_index], y[test_index] # targets for training and testing \n",
        "  \n",
        "\n",
        "print(f'The number of samples: {len(X_train.index)}')\n",
        "print(f'The number of columns: {len(X_train.columns)}')\n"
      ],
      "metadata": {
        "id": "zh6AwkZe5aDy",
        "outputId": "7816f486-00e0-4a70-d2ba-bb95eae1572a",
        "colab": {
          "base_uri": "https://localhost:8080/"
        }
      },
      "execution_count": 30,
      "outputs": [
        {
          "output_type": "stream",
          "name": "stdout",
          "text": [
            "The number of samples: 246\n",
            "The number of columns: 493\n",
            "The number of samples: 197\n",
            "The number of columns: 493\n"
          ]
        }
      ]
    }
  ]
}